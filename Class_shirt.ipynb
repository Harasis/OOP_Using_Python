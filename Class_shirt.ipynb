{
 "cells": [
  {
   "cell_type": "code",
   "execution_count": 1,
   "metadata": {},
   "outputs": [],
   "source": [
    "class Shirt:\n",
    "    \n",
    "    def __init__(self, shirt_color, shirt_style, shirt_size, shirt_price):\n",
    "        \n",
    "        self.color = shirt_color\n",
    "        self.style = shirt_style\n",
    "        self.size = shirt_size\n",
    "        self.price = shirt_price\n",
    "        \n",
    "    def change_price(self, new_price):\n",
    "        \n",
    "        self.price = new_price\n",
    "        \n",
    "    def discount(self, discount):\n",
    "        \n",
    "        return self.price * (1-discount)\n",
    "    \n",
    "#Self stores our attributes like color,size and makes these available throughout our class\n",
    "#Self is a dictionary that hold all our attributes and its values"
   ]
  },
  {
   "cell_type": "code",
   "execution_count": 2,
   "metadata": {},
   "outputs": [],
   "source": [
    "#instantiating an object and storing it in a new variable\n",
    "#Python will call the init function to initialize this object\n",
    "\n",
    "new_shirt = Shirt('red', 'short sleeve', 'M', '15')"
   ]
  },
  {
   "cell_type": "code",
   "execution_count": 3,
   "metadata": {},
   "outputs": [
    {
     "name": "stdout",
     "output_type": "stream",
     "text": [
      "red\n",
      "short sleeve\n",
      "M\n",
      "15\n"
     ]
    }
   ],
   "source": [
    "print(new_shirt.color)\n",
    "print(new_shirt.style)\n",
    "print(new_shirt.size)\n",
    "print(new_shirt.price)"
   ]
  },
  {
   "cell_type": "code",
   "execution_count": 5,
   "metadata": {},
   "outputs": [
    {
     "name": "stdout",
     "output_type": "stream",
     "text": [
      "Before:  15\n",
      "After:  10\n"
     ]
    }
   ],
   "source": [
    "#Accessing Methods\n",
    "print(\"Before: \",new_shirt.price)\n",
    "new_shirt.change_price(10)\n",
    "print(\"After: \", new_shirt.price)"
   ]
  },
  {
   "cell_type": "code",
   "execution_count": 6,
   "metadata": {},
   "outputs": [
    {
     "name": "stdout",
     "output_type": "stream",
     "text": [
      "After Discount:  8.8\n"
     ]
    }
   ],
   "source": [
    "print(\"After Discount: \", new_shirt.discount(.12))\n",
    "\n",
    "#12% discount"
   ]
  },
  {
   "cell_type": "code",
   "execution_count": 10,
   "metadata": {},
   "outputs": [
    {
     "name": "stdout",
     "output_type": "stream",
     "text": [
      "orange\n",
      "green\n",
      "black\n"
     ]
    }
   ],
   "source": [
    "#Instantiating 3 objects and Store them in a List\n",
    "\n",
    "tshirt_collection = []\n",
    "\n",
    "shirt_one = Shirt('orange', 'Short Sleeve', 'L', 12)\n",
    "shirt_two = Shirt('green', 'Long Sleeve', 'XL', 16)\n",
    "shirt_three = Shirt('black', 'Short Sleeve', 'XXL', 30)\n",
    "\n",
    "tshirt_collection.append(shirt_one)\n",
    "tshirt_collection.append(shirt_two)\n",
    "tshirt_collection.append(shirt_three)\n",
    "\n",
    "for i in range(len(tshirt_collection)):\n",
    "    print(tshirt_collection[i].color)"
   ]
  },
  {
   "cell_type": "code",
   "execution_count": 11,
   "metadata": {},
   "outputs": [],
   "source": [
    "total = shirt_one.price+shirt_two.price"
   ]
  },
  {
   "cell_type": "code",
   "execution_count": 12,
   "metadata": {},
   "outputs": [
    {
     "data": {
      "text/plain": [
       "28"
      ]
     },
     "execution_count": 12,
     "metadata": {},
     "output_type": "execute_result"
    }
   ],
   "source": [
    "total"
   ]
  },
  {
   "cell_type": "code",
   "execution_count": null,
   "metadata": {},
   "outputs": [],
   "source": []
  }
 ],
 "metadata": {
  "kernelspec": {
   "display_name": "Python 3",
   "language": "python",
   "name": "python3"
  },
  "language_info": {
   "codemirror_mode": {
    "name": "ipython",
    "version": 3
   },
   "file_extension": ".py",
   "mimetype": "text/x-python",
   "name": "python",
   "nbconvert_exporter": "python",
   "pygments_lexer": "ipython3",
   "version": "3.7.7"
  }
 },
 "nbformat": 4,
 "nbformat_minor": 4
}
