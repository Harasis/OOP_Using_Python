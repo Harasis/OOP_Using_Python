{
 "cells": [
  {
   "cell_type": "code",
   "execution_count": 1,
   "metadata": {},
   "outputs": [],
   "source": [
    "class Clothing:  #parent class\n",
    "    \n",
    "    def __init__(self, color, size, style, price):\n",
    "        \n",
    "        self.color = color\n",
    "        self.size = size\n",
    "        self.style = style\n",
    "        self.price = price\n",
    "        \n",
    "    def change_price(self, price):\n",
    "        \n",
    "        self.price = price\n",
    "        \n",
    "    def calculate_discount(self, discount):\n",
    "        \n",
    "        return self.price * (1- discount)\n",
    "    \n",
    "    "
   ]
  },
  {
   "cell_type": "code",
   "execution_count": 2,
   "metadata": {},
   "outputs": [],
   "source": [
    "class Shirt(Clothing):   #Child class, Shirt class is inheriting all the functions and attributes of Clothing Class\n",
    "    \n",
    "    def __init__( self, color, size, style, price, long_or_short):\n",
    "        \n",
    "        Clothing.__init__(self, color, size, style, price) \n",
    "        \n",
    "        #Shirt object initializes it's object using Clothing's init method, and we can add any extra attributes like \n",
    "        #long_or_short in Shirt class and Waist in Pants class\n",
    "        \n",
    "        self.long_or_short = long_or_short\n",
    "        \n",
    "    def double_price(self):  #Adding extra method to Shirt class\n",
    "        \n",
    "        self.price = 2 * self.price\n",
    "    "
   ]
  },
  {
   "cell_type": "code",
   "execution_count": 3,
   "metadata": {},
   "outputs": [],
   "source": [
    "#We can also override any of the clothing(parent class's) methods in clild class\n",
    "\n",
    "class Pants(Clothing):\n",
    "    \n",
    "    def __init__ (self, color, size, style, price, waist):\n",
    "        \n",
    "        Clothing.__init__(self, color, size, style, price)\n",
    "        self.waist = waist\n",
    "        \n",
    "    def calculate_discount(self, discount):   #Overriding the calculate_discount method of Parent class in Child class\n",
    "        \n",
    "        return self.price * (1- discount/2)"
   ]
  },
  {
   "cell_type": "code",
   "execution_count": null,
   "metadata": {},
   "outputs": [],
   "source": []
  }
 ],
 "metadata": {
  "kernelspec": {
   "display_name": "Python 3",
   "language": "python",
   "name": "python3"
  },
  "language_info": {
   "codemirror_mode": {
    "name": "ipython",
    "version": 3
   },
   "file_extension": ".py",
   "mimetype": "text/x-python",
   "name": "python",
   "nbconvert_exporter": "python",
   "pygments_lexer": "ipython3",
   "version": "3.7.7"
  }
 },
 "nbformat": 4,
 "nbformat_minor": 4
}
